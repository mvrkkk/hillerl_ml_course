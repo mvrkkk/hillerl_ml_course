{
  "nbformat": 4,
  "nbformat_minor": 0,
  "metadata": {
    "colab": {
      "name": "lesson_1_hellopython.ipynb",
      "provenance": [],
      "collapsed_sections": []
    },
    "kernelspec": {
      "name": "python3",
      "display_name": "Python 3"
    },
    "accelerator": "GPU"
  },
  "cells": [
    {
      "cell_type": "markdown",
      "metadata": {
        "id": "f_2ml7NddzGI",
        "colab_type": "text"
      },
      "source": [
        "### Hello Python - IT School Hillel - DL/ML Course"
      ]
    },
    {
      "cell_type": "code",
      "metadata": {
        "id": "xsyzpBzkdg6J",
        "colab_type": "code",
        "outputId": "a7950813-2aeb-4113-832d-cb06158218ee",
        "colab": {
          "base_uri": "https://localhost:8080/",
          "height": 34
        }
      },
      "source": [
        "a = 2\n",
        "b = 3\n",
        "\n",
        "a,b"
      ],
      "execution_count": 0,
      "outputs": [
        {
          "output_type": "execute_result",
          "data": {
            "text/plain": [
              "(2, 3)"
            ]
          },
          "metadata": {
            "tags": []
          },
          "execution_count": 23
        }
      ]
    },
    {
      "cell_type": "code",
      "metadata": {
        "id": "TNuVlTEleLlh",
        "colab_type": "code",
        "outputId": "8c334989-3980-47d8-91a3-2c5ae94d76d9",
        "colab": {
          "base_uri": "https://localhost:8080/",
          "height": 34
        }
      },
      "source": [
        "c = a\n",
        "a = b\n",
        "b = c\n",
        "\n",
        "a,b"
      ],
      "execution_count": 0,
      "outputs": [
        {
          "output_type": "execute_result",
          "data": {
            "text/plain": [
              "(3, 2)"
            ]
          },
          "metadata": {
            "tags": []
          },
          "execution_count": 24
        }
      ]
    },
    {
      "cell_type": "markdown",
      "metadata": {
        "id": "MSfsk8vYmL6a",
        "colab_type": "text"
      },
      "source": [
        "**Strings**"
      ]
    },
    {
      "cell_type": "code",
      "metadata": {
        "id": "gsogpbjqmM3l",
        "colab_type": "code",
        "outputId": "05b93d1c-12d1-4911-84ce-213d879282ca",
        "colab": {
          "base_uri": "https://localhost:8080/",
          "height": 51
        }
      },
      "source": [
        "n = 'Pi3.4'\n",
        "age = 23\n",
        "\n",
        "# concatenation\n",
        "\n",
        "print(n * 3)\n",
        "print(n + n)"
      ],
      "execution_count": 0,
      "outputs": [
        {
          "output_type": "stream",
          "text": [
            "Pi3.4Pi3.4Pi3.4\n",
            "Pi3.4Pi3.4\n"
          ],
          "name": "stdout"
        }
      ]
    },
    {
      "cell_type": "code",
      "metadata": {
        "id": "U1ofHN5EmOeF",
        "colab_type": "code",
        "outputId": "d28696df-61f8-4962-f8d8-fecd8b081469",
        "colab": {
          "base_uri": "https://localhost:8080/",
          "height": 68
        }
      },
      "source": [
        "# string formating 1\n",
        "print(\"sss %s is %d\" % (n, age))\n",
        "\n",
        "# string formating 2\n",
        "print(\"sss {} is {}\".format(n, age))\n",
        "\n",
        "# string formating 3\n",
        "print(f'sss {n} is {age}')\n"
      ],
      "execution_count": 0,
      "outputs": [
        {
          "output_type": "stream",
          "text": [
            "sss Pi3.4 is 23\n",
            "sss Pi3.4 is 23\n",
            "sss Pi3.4 is 23\n"
          ],
          "name": "stdout"
        }
      ]
    },
    {
      "cell_type": "code",
      "metadata": {
        "id": "if9-acIJnPVU",
        "colab_type": "code",
        "outputId": "c5357123-5140-41b5-b8c2-186293d55c49",
        "colab": {
          "base_uri": "https://localhost:8080/",
          "height": 34
        }
      },
      "source": [
        "name = 'Name'\n",
        "age = 23.31233123\n",
        "\n",
        "\n",
        "# decimals point formating\n",
        "f'{name} is {age: .3f} yold'  "
      ],
      "execution_count": 0,
      "outputs": [
        {
          "output_type": "execute_result",
          "data": {
            "text/plain": [
              "'Name is  23.312 yold'"
            ]
          },
          "metadata": {
            "tags": []
          },
          "execution_count": 37
        }
      ]
    },
    {
      "cell_type": "markdown",
      "metadata": {
        "id": "7GY72Vftnxt5",
        "colab_type": "text"
      },
      "source": [
        "In home work - use only **3 decimal** points !!!"
      ]
    },
    {
      "cell_type": "code",
      "metadata": {
        "id": "J982B_3NnxZ8",
        "colab_type": "code",
        "outputId": "789bf66e-dbae-491c-85fd-0306746df09d",
        "colab": {
          "base_uri": "https://localhost:8080/",
          "height": 34
        }
      },
      "source": [
        "# scientific notation\n",
        "name = 'Name'\n",
        "age = float(123123123123)\n",
        "\n",
        "\n",
        "# decimals point formating\n",
        "f'{name} is {age: .3} yold'  \n"
      ],
      "execution_count": 0,
      "outputs": [
        {
          "output_type": "execute_result",
          "data": {
            "text/plain": [
              "'Name is  1.23e+11 yold'"
            ]
          },
          "metadata": {
            "tags": []
          },
          "execution_count": 38
        }
      ]
    },
    {
      "cell_type": "markdown",
      "metadata": {
        "id": "2IjeIFVPod1s",
        "colab_type": "text"
      },
      "source": [
        "Sandbox "
      ]
    },
    {
      "cell_type": "code",
      "metadata": {
        "id": "2Ij4rg_bnpNh",
        "colab_type": "code",
        "colab": {}
      },
      "source": [
        "n = 901298713049\n",
        "\n",
        "# with int case\n",
        "def get_k(n, k):\n",
        "  return ((n % (10 ** k)) // 10 ** (k - 1))\n",
        "\n",
        "# parsed as string\n",
        "\n",
        "def get_k_str(n,k):\n",
        "  return (str(n)[-k])"
      ],
      "execution_count": 0,
      "outputs": []
    },
    {
      "cell_type": "code",
      "metadata": {
        "id": "saJHO97NohL3",
        "colab_type": "code",
        "outputId": "e1b9cfff-e0f4-4c79-df98-66401504663a",
        "colab": {
          "base_uri": "https://localhost:8080/",
          "height": 34
        }
      },
      "source": [
        "get_k(n,2),get_k_str(n,2)"
      ],
      "execution_count": 0,
      "outputs": [
        {
          "output_type": "execute_result",
          "data": {
            "text/plain": [
              "(4, '4')"
            ]
          },
          "metadata": {
            "tags": []
          },
          "execution_count": 65
        }
      ]
    },
    {
      "cell_type": "markdown",
      "metadata": {
        "id": "D1I3cLwFr5QF",
        "colab_type": "text"
      },
      "source": [
        "Lists and tuples\n",
        "\n",
        "- by convention - same types must be stored in lists\n",
        "- if you need to store multiplt different types - use tuples"
      ]
    },
    {
      "cell_type": "code",
      "metadata": {
        "id": "g0EIenZPpnM2",
        "colab_type": "code",
        "colab": {}
      },
      "source": [
        "n_l1 = ['a', 'b', 'c']\n",
        "n_t1 = ('a', 'b', 'c')"
      ],
      "execution_count": 0,
      "outputs": []
    },
    {
      "cell_type": "code",
      "metadata": {
        "id": "_MlTf6L7sNIY",
        "colab_type": "code",
        "colab": {}
      },
      "source": [
        "n_t2 = ('a',3,['a',{'d':3}])"
      ],
      "execution_count": 0,
      "outputs": []
    },
    {
      "cell_type": "code",
      "metadata": {
        "id": "XjpTMwu6sXvF",
        "colab_type": "code",
        "outputId": "88644b67-5e86-4c64-e155-60a65246f9ca",
        "colab": {
          "base_uri": "https://localhost:8080/",
          "height": 34
        }
      },
      "source": [
        "# Memory alocation - id\n",
        "\n",
        "# each variable has its own pre-alocated memory\n",
        "l = list(range(6))\n",
        "print(id(l))"
      ],
      "execution_count": 0,
      "outputs": [
        {
          "output_type": "stream",
          "text": [
            "140318925236680\n"
          ],
          "name": "stdout"
        }
      ]
    },
    {
      "cell_type": "code",
      "metadata": {
        "id": "r1Qqi-TDshwU",
        "colab_type": "code",
        "outputId": "cb81b8fc-edab-42c0-ca86-2f28f1f2bbff",
        "colab": {
          "base_uri": "https://localhost:8080/",
          "height": 119
        }
      },
      "source": [
        "# each element of list/array - has its own allocated memory\n",
        "for each in l:\n",
        "  print(id(each))"
      ],
      "execution_count": 0,
      "outputs": [
        {
          "output_type": "stream",
          "text": [
            "10914464\n",
            "10914496\n",
            "10914528\n",
            "10914560\n",
            "10914592\n",
            "10914624\n"
          ],
          "name": "stdout"
        }
      ]
    },
    {
      "cell_type": "code",
      "metadata": {
        "id": "0HoSzGCPtCzC",
        "colab_type": "code",
        "outputId": "69dc92df-f801-4e41-989c-1e30729bef64",
        "colab": {
          "base_uri": "https://localhost:8080/",
          "height": 34
        }
      },
      "source": [
        "%%timeit\n",
        "def f1(n = 100000):\n",
        "  result = []\n",
        "  for each in range(n):\n",
        "    result.append(each)\n",
        "  return result"
      ],
      "execution_count": 0,
      "outputs": [
        {
          "output_type": "stream",
          "text": [
            "10000000 loops, best of 3: 51.6 ns per loop\n"
          ],
          "name": "stdout"
        }
      ]
    },
    {
      "cell_type": "code",
      "metadata": {
        "id": "lmt5gubntvqB",
        "colab_type": "code",
        "outputId": "491362ae-a4a8-4522-d3a5-f557d8d8c3c8",
        "colab": {
          "base_uri": "https://localhost:8080/",
          "height": 34
        }
      },
      "source": [
        "%%timeit\n",
        "def f2(n = 100000):\n",
        "  return [i for i in range(n)]"
      ],
      "execution_count": 0,
      "outputs": [
        {
          "output_type": "stream",
          "text": [
            "10000000 loops, best of 3: 50.3 ns per loop\n"
          ],
          "name": "stdout"
        }
      ]
    },
    {
      "cell_type": "code",
      "metadata": {
        "id": "gdsvajjyuBqW",
        "colab_type": "code",
        "outputId": "989e0677-28e3-422c-a672-ffa360cc472b",
        "colab": {
          "base_uri": "https://localhost:8080/",
          "height": 34
        }
      },
      "source": [
        "%%timeit\n",
        "def f3(n = 100000):\n",
        "  return (i for i in range(n))"
      ],
      "execution_count": 0,
      "outputs": [
        {
          "output_type": "stream",
          "text": [
            "10000000 loops, best of 3: 51.6 ns per loop\n"
          ],
          "name": "stdout"
        }
      ]
    },
    {
      "cell_type": "code",
      "metadata": {
        "id": "CZr-z8BXuDb2",
        "colab_type": "code",
        "colab": {}
      },
      "source": [
        "# min\n",
        "import random"
      ],
      "execution_count": 0,
      "outputs": []
    },
    {
      "cell_type": "code",
      "metadata": {
        "id": "9hDUQSNAxdo2",
        "colab_type": "code",
        "colab": {}
      },
      "source": [
        "## binary search\n",
        "def binary_search(vector, start, end, element):\n",
        "  mid = int(start + (end - start) / 2)\n",
        "\n",
        "  if vector[mid] == element:\n",
        "    return mid\n",
        "\n",
        "  elif vector[mid] > element:\n",
        "    return binary_search(vector, start, mid - 1, element)\n",
        "\n",
        "  else:\n",
        "    return binary_search(vector, mid + 1, end, element)\n",
        "      "
      ],
      "execution_count": 0,
      "outputs": []
    },
    {
      "cell_type": "code",
      "metadata": {
        "id": "ZLhzWa2e35ap",
        "colab_type": "code",
        "outputId": "815235bb-f91e-42e7-8cce-daedd3295ce8",
        "colab": {
          "base_uri": "https://localhost:8080/",
          "height": 34
        }
      },
      "source": [
        "n = list(i for i in range(10))\n",
        "n.sort()\n",
        "binary_search(n, 0, len(n) - 1, 3)"
      ],
      "execution_count": 5,
      "outputs": [
        {
          "output_type": "execute_result",
          "data": {
            "text/plain": [
              "3"
            ]
          },
          "metadata": {
            "tags": []
          },
          "execution_count": 5
        }
      ]
    },
    {
      "cell_type": "code",
      "metadata": {
        "id": "CTwnOh_f5h1O",
        "colab_type": "code",
        "colab": {}
      },
      "source": [
        "# recursion fibonacci\n",
        "def rec_fib(n):\n",
        "  if n <= 1:\n",
        "    return n\n",
        "\n",
        "  else:\n",
        "    return rec_fib(n - 1) + rec_fib(n - 2)"
      ],
      "execution_count": 0,
      "outputs": []
    },
    {
      "cell_type": "code",
      "metadata": {
        "id": "HrYZuxTT6sa0",
        "colab_type": "code",
        "colab": {}
      },
      "source": [
        ""
      ],
      "execution_count": 0,
      "outputs": []
    }
  ]
}