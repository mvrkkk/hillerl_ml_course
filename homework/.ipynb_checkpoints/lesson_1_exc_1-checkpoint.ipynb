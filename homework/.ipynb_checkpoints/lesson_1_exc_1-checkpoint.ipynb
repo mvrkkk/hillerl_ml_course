{
 "cells": [
  {
   "cell_type": "markdown",
   "metadata": {},
   "source": [
    "# Data Science & Machine Learning course - IT-Hillel school\n",
    "\n",
    "### Lesson's 1 home work solutions"
   ]
  },
  {
   "cell_type": "markdown",
   "metadata": {},
   "source": [
    "### Task 1 - description\n",
    "\n",
    "Вы получили данные о магазине и продуктах в этих магазинах в виде словаря dict(). Необходимо создать обратный словарь, содержащий название товара и наименования магазинов, в которых этот товар представлен. Написать функцию принимающую и возвращающую словарь.\n",
    "\n",
    "**Input**:\n",
    "\n",
    "```\n",
    "{\n",
    "    ‘rozetka’: [‘iphone’, ‘macbook’, ‘ipad’],\n",
    "    ‘fua’: [‘macbook’, ‘ipad’],\n",
    "    ‘citrus’: [‘iphone’, ‘macbook’, ‘earpods’],\n",
    "    ‘allo’: [‘earpods’, ‘iphone’]\n",
    "}\n",
    "```\n",
    "**Output**: \n",
    "```\n",
    "{\n",
    "    ‘iphone’: [‘rozetka’, ‘citrus’, ‘allo’],\n",
    "    ‘macbook’: [‘rozetka’, ‘fua’, ‘citrus’],\n",
    "    ‘ipad’: [‘rozetka’, ‘fua’],\n",
    "    ‘earpods’: [‘allo’, ‘citrus’]\n",
    "}\n",
    "```"
   ]
  },
  {
   "cell_type": "markdown",
   "metadata": {},
   "source": [
    "### Task 1 - solution"
   ]
  },
  {
   "cell_type": "code",
   "execution_count": 1,
   "metadata": {},
   "outputs": [
    {
     "data": {
      "text/plain": [
       "{'earpods': ['citrus', 'allo'],\n",
       " 'ipad': ['rozetka', 'fua'],\n",
       " 'iphone': ['rozetka', 'citrus', 'allo'],\n",
       " 'macbook': ['rozetka', 'fua', 'citrus']}"
      ]
     },
     "execution_count": 1,
     "metadata": {},
     "output_type": "execute_result"
    }
   ],
   "source": [
    "# T1 solution\n",
    "\n",
    "# create initial dictionary\n",
    "input_dict = {\n",
    "    'rozetka': ['iphone', 'macbook', 'ipad'],\n",
    "    'fua': ['macbook', 'ipad'],\n",
    "    'citrus': ['iphone', 'macbook', 'earpods'],\n",
    "    'allo': ['earpods', 'iphone']\n",
    "}\n",
    "\n",
    "# create a dict transpose function \n",
    "def dict2dict(input_dict):\n",
    "    \n",
    "    # get unique values for each key in input dictionary\n",
    "    unique_values = set(value for sublist in input_dict.values() for value in sublist)\n",
    "    \n",
    "    # create an output dictionary\n",
    "    output = dict()\n",
    "    \n",
    "    # loop through unique products list\n",
    "    for unique in unique_values:\n",
    "        \n",
    "        # create a result list\n",
    "        keys_list = []\n",
    "        \n",
    "        # loop through input dictionary keys and values\n",
    "        for key, value in input_dict.items():   \n",
    "            \n",
    "            # if unique product in values list fo input dictionary's key\n",
    "            if unique in value:\n",
    "                \n",
    "                # append those keys to a result list of keys\n",
    "                keys_list.append(key)\n",
    "        # assign key with unique product name and set a keys list as values\n",
    "        output[unique] = keys_list\n",
    "     \n",
    "    # return output dictionary\n",
    "    return output\n",
    "        \n",
    "    \n",
    "\n",
    "output_dict = dict2dict(input_dict)\n",
    "output_dict"
   ]
  },
  {
   "cell_type": "code",
   "execution_count": 2,
   "metadata": {},
   "outputs": [
    {
     "name": "stdout",
     "output_type": "stream",
     "text": [
      "2.98 µs ± 132 ns per loop (mean ± std. dev. of 7 runs, 100000 loops each)\n"
     ]
    }
   ],
   "source": [
    "%%timeit\n",
    "dict2dict(input_dict)"
   ]
  },
  {
   "cell_type": "markdown",
   "metadata": {},
   "source": [
    "### Task 2\n",
    "\n",
    "Дан текст:\n",
    "```\n",
    "text = \"\"\"Однажды весною, в час небывало жаркого заката, в Москве, на Патриарших прудах, появились два гражданина. Первый из них, одетый в летнюю серенькую пару, был маленького роста, упитан, лыс, свою приличную шляпу пирожком нес в руке, а на хорошо выбритом лице его помещались сверхъестественных размеров очки в черной роговой оправе. Второй – плечистый, рыжеватый, вихрастый молодой человек в заломленной на затылок клетчатой кепке – был в ковбойке, жеваных белых брюках и в черных тапочках. Первый был не кто иной, как Михаил Александрович Берлиоз, председатель правления одной из крупнейших московских литературных ассоциаций, сокращенно именуемой МАССОЛИТ, и редактор толстого художественного журнала, а молодой спутник его – поэт Иван Николаевич Понырев, пишущий под псевдонимом Бездомный. Попав в тень чуть зеленеющих лип, писатели первым долгом бросились к пестро раскрашенной будочке с надписью «Пиво и воды». Да, следует отметить первую странность этого страшного майского вечера. Не только у будочки, но и во всей аллее, параллельной Малой Бронной улице, не оказалось ни одного человека. В тот час, когда уж, кажется, и сил не было дышать, когда солнце, раскалив Москву, в сухом тумане валилось куда-то за Садовое кольцо, – никто не пришел под липы, никто не сел на скамейку, пуста была аллея.\"\"\".lower()\n",
    "```\n",
    "\n",
    "Написать функцию, принимающую строку и возвращающую словарь dict() содержащий все символы в тексте и количество их вхождений (сколько раз символ присутствует в тексте)\n",
    "\n",
    "**Output**: \n",
    "```\n",
    "{‘–’: 4, ‘ъ’: 1, ‘э’: 2}\n",
    "```\n",
    "\n"
   ]
  },
  {
   "cell_type": "markdown",
   "metadata": {},
   "source": [
    "### Solution"
   ]
  },
  {
   "cell_type": "code",
   "execution_count": 3,
   "metadata": {},
   "outputs": [
    {
     "name": "stdout",
     "output_type": "stream",
     "text": [
      "{'о': 119, 'д': 31, 'н': 65, 'а': 85, 'ж': 10, 'ы': 28, ' ': 193, 'в': 52, 'е': 89, 'с': 54, 'ю': 10, ',': 33, 'ч': 17, 'б': 16, 'л': 60, 'р': 51, 'к': 47, 'г': 15, 'з': 11, 'т': 50, 'м': 26, 'п': 38, 'и': 62, 'ш': 9, 'х': 19, 'у': 28, 'я': 5, 'ь': 17, '.': 8, 'й': 28, 'ц': 6, 'щ': 4, 'ъ': 1, '–': 4, 'э': 2, '«': 1, '»': 1, '-': 1}\n"
     ]
    }
   ],
   "source": [
    "# T2 solution\n",
    "text = \"\"\"Однажды весною, в час небывало жаркого заката, в Москве, на Патриарших прудах, появились два гражданина. Первый из них, одетый в летнюю серенькую пару, был маленького роста, упитан, лыс, свою приличную шляпу пирожком нес в руке, а на хорошо выбритом лице его помещались сверхъестественных размеров очки в черной роговой оправе. Второй – плечистый, рыжеватый, вихрастый молодой человек в заломленной на затылок клетчатой кепке – был в ковбойке, жеваных белых брюках и в черных тапочках. Первый был не кто иной, как Михаил Александрович Берлиоз, председатель правления одной из крупнейших московских литературных ассоциаций, сокращенно именуемой МАССОЛИТ, и редактор толстого художественного журнала, а молодой спутник его – поэт Иван Николаевич Понырев, пишущий под псевдонимом Бездомный. Попав в тень чуть зеленеющих лип, писатели первым долгом бросились к пестро раскрашенной будочке с надписью «Пиво и воды». Да, следует отметить первую странность этого страшного майского вечера. Не только у будочки, но и во всей аллее, параллельной Малой Бронной улице, не оказалось ни одного человека. В тот час, когда уж, кажется, и сил не было дышать, когда солнце, раскалив Москву, в сухом тумане валилось куда-то за Садовое кольцо, – никто не пришел под липы, никто не сел на скамейку, пуста была аллея.\"\"\".lower() \n",
    "\n",
    "def symbol_counter(string):\n",
    "    symbols_list = list(string)\n",
    "    counterdict = dict()\n",
    "    for each in symbols_list:\n",
    "        if each in counterdict.keys():\n",
    "            counterdict[each] += 1\n",
    "        else:\n",
    "            counterdict[each] = 1\n",
    "       \n",
    "    return counterdict\n",
    "\n",
    "otput_c = symbol_counter(text)\n",
    "print(otput_c)"
   ]
  },
  {
   "cell_type": "code",
   "execution_count": 4,
   "metadata": {},
   "outputs": [
    {
     "name": "stdout",
     "output_type": "stream",
     "text": [
      "233 µs ± 2.79 µs per loop (mean ± std. dev. of 7 runs, 1000 loops each)\n"
     ]
    }
   ],
   "source": [
    "%%timeit\n",
    "symbol_counter(text)"
   ]
  },
  {
   "cell_type": "markdown",
   "metadata": {},
   "source": [
    "### Task 3\n",
    "На основе данного текста построить генератор текста длиной в сто символов, принимающий символ и возвращающий следующий, как функцию от предыдущего. Для этого нужно изучить условное распределение, как часто за одним символом следует другой.\n",
    "\n",
    "e.g.\n",
    "\n",
    "**Input:**\n",
    "```\n",
    "gen_text(‘ц’) \n",
    "\n",
    "{’ц’: {‘e’: 3}, {‘и’: 2}, {‘о’: 1} } # генерируем “е” с вероятностью ½,\n",
    "                                     #  “и” c вероятностью ⅓ и “о” с вероятностью ⅙.\n",
    "\n",
    "```\n",
    "\n",
    "**Output:**\n",
    "```\n",
    "“цодой пою лодах лой быканах” и т.д.\n",
    "```\n",
    "\n",
    "p.s. import random + если для символа нет следующего, ставим “.” и продолжаем\n",
    "\n"
   ]
  },
  {
   "cell_type": "markdown",
   "metadata": {},
   "source": [
    "### Solution"
   ]
  },
  {
   "cell_type": "code",
   "execution_count": 12,
   "metadata": {},
   "outputs": [],
   "source": [
    "# imports\n",
    "from random import choices\n",
    "\n",
    "# find indexes of a given character in given string\n",
    "def find_indexes(char,text):\n",
    "    for i, char_text in enumerate(text):\n",
    "        if char == char_text:\n",
    "            yield i\n",
    "            \n",
    "\n",
    "\n",
    "# calculate probabilities for element's occurencies \n",
    "def calculate_probas(element_counter_dict):\n",
    "    \n",
    "    N =  sum(element_counter_dict.values())\n",
    "    \n",
    "    probas_dict = {\n",
    "        key: round(value / N, 3) for key, value in element_counter_dict.items()\n",
    "    }\n",
    "    \n",
    "    return probas_dict\n",
    "\n",
    "# get next element occurencies for each element in string\n",
    "def next_element_counter(text):\n",
    "    unique_elements = set(text)\n",
    "    next_occurence_dict = dict()\n",
    "    \n",
    "    for each_element in unique_elements:\n",
    "        \n",
    "        current_element_indexes = find_indexes(each_element, text)\n",
    "        \n",
    "        temporary_result = list()\n",
    "        \n",
    "        for curr_element_idx in current_element_indexes:\n",
    "            next_element_idx = curr_element_idx + 1\n",
    "            \n",
    "            if next_element_idx < len(text):\n",
    "                next_element_value = text[next_element_idx]\n",
    "                temporary_result.append(next_element_value)\n",
    "            else:\n",
    "                pass\n",
    "        \n",
    "        tmp_string = ''.join(temporary_result)\n",
    "        next_occurence_counts = calculate_probas(symbol_counter(tmp_string))\n",
    "        \n",
    "        next_occurence_dict[each_element] = next_occurence_counts\n",
    "    return next_occurence_dict\n",
    "\n",
    "# generate markovchain text string\n",
    "def markovchain_generator(input_char, text_string, sequence_lenght = 100):\n",
    "    \n",
    "    # calculate next element appearence for each unique element in text_string\n",
    "    occurences = next_element_counter(text_string)\n",
    "    \n",
    "    # for memoization\n",
    "    result = []\n",
    "    \n",
    "    # set input_char as a first element in generated result else pass\n",
    "    if len(result) == 0:\n",
    "            result.append(input_char)\n",
    "    else:\n",
    "        pass\n",
    "    \n",
    "    char = input_char\n",
    "    \n",
    "    # repeat until length of result reach a sequence_length value\n",
    "    while len(result) + 1 <= sequence_lenght:\n",
    "        \n",
    "        # get probabilities of next element appearence for a current char\n",
    "        probas = occurences.get(char)\n",
    "        \n",
    "        # if current char has next element\n",
    "        if probas:\n",
    "            # unpack dictionary\n",
    "            keys, values = list(probas.keys()), list(probas.values())\n",
    "            \n",
    "            # randomly choose an element from multi-/bino- nomial distribution of elements\n",
    "            choice = choices(population = keys, weights = values, k = 1)[0]\n",
    "            \n",
    "            # append those element to generated result\n",
    "            result.append(choice)\n",
    "        \n",
    "        # if current element hasn't next element\n",
    "        # append '.' to generated string\n",
    "        else:\n",
    "            result.append('.')\n",
    "        \n",
    "        # get last element from generated string\n",
    "        char = result[-1]\n",
    "    \n",
    "    # typecast generated result to a string\n",
    "    generated_string = ''.join(result)\n",
    "    \n",
    "    # finaly, return generated string\n",
    "    return generated_string\n",
    "\n"
   ]
  },
  {
   "cell_type": "code",
   "execution_count": 13,
   "metadata": {},
   "outputs": [],
   "source": [
    "#%%timeit\n",
    "ss = markovchain_generator('ц',text)"
   ]
  },
  {
   "cell_type": "code",
   "execution_count": 14,
   "metadata": {},
   "outputs": [
    {
     "data": {
      "text/plain": [
       "'цей в рлиценыхуру, всс, брасом ной атскерере пру, застрееруд сь чндысною, нетв чнитоно них, вей захъ'"
      ]
     },
     "execution_count": 14,
     "metadata": {},
     "output_type": "execute_result"
    }
   ],
   "source": [
    "ss"
   ]
  },
  {
   "cell_type": "code",
   "execution_count": null,
   "metadata": {},
   "outputs": [],
   "source": []
  }
 ],
 "metadata": {
  "kernelspec": {
   "display_name": "Python 3",
   "language": "python",
   "name": "python3"
  },
  "language_info": {
   "codemirror_mode": {
    "name": "ipython",
    "version": 3
   },
   "file_extension": ".py",
   "mimetype": "text/x-python",
   "name": "python",
   "nbconvert_exporter": "python",
   "pygments_lexer": "ipython3",
   "version": "3.7.4"
  }
 },
 "nbformat": 4,
 "nbformat_minor": 4
}
