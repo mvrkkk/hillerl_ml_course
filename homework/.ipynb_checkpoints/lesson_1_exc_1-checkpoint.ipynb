{
 "cells": [
  {
   "cell_type": "markdown",
   "metadata": {},
   "source": [
    "# Data Science & Machine Learning course - IT-Hillel school\n",
    "\n",
    "### Lesson's 1 home work solutions"
   ]
  },
  {
   "cell_type": "markdown",
   "metadata": {},
   "source": [
    "### Task 1 - description\n",
    "\n",
    "Вы получили данные о магазине и продуктах в этих магазинах в виде словаря dict(). Необходимо создать обратный словарь, содержащий название товара и наименования магазинов, в которых этот товар представлен. Написать функцию принимающую и возвращающую словарь.\n",
    "\n",
    "**Input**:\n",
    "\n",
    "```\n",
    "{\n",
    "    ‘rozetka’: [‘iphone’, ‘macbook’, ‘ipad’],\n",
    "    ‘fua’: [‘macbook’, ‘ipad’],\n",
    "    ‘citrus’: [‘iphone’, ‘macbook’, ‘earpods’],\n",
    "    ‘allo’: [‘earpods’, ‘iphone’]\n",
    "}\n",
    "```\n",
    "**Output**: \n",
    "```\n",
    "{\n",
    "    ‘iphone’: [‘rozetka’, ‘citrus’, ‘allo’],\n",
    "    ‘macbook’: [‘rozetka’, ‘fua’, ‘citrus’],\n",
    "    ‘ipad’: [‘rozetka’, ‘fua’],\n",
    "    ‘earpods’: [‘allo’, ‘citrus’]\n",
    "}\n",
    "```"
   ]
  },
  {
   "cell_type": "markdown",
   "metadata": {},
   "source": [
    "### Task 1 - solution"
   ]
  },
  {
   "cell_type": "code",
   "execution_count": 1,
   "metadata": {},
   "outputs": [
    {
     "data": {
      "text/plain": [
       "{'ipad': ['rozetka', 'fua'],\n",
       " 'macbook': ['rozetka', 'fua', 'citrus'],\n",
       " 'earpods': ['citrus', 'allo'],\n",
       " 'iphone': ['rozetka', 'citrus', 'allo']}"
      ]
     },
     "execution_count": 1,
     "metadata": {},
     "output_type": "execute_result"
    }
   ],
   "source": [
    "# T1 solution\n",
    "\n",
    "# create initial dictionary\n",
    "input_dict = {\n",
    "    'rozetka': ['iphone', 'macbook', 'ipad'],\n",
    "    'fua': ['macbook', 'ipad'],\n",
    "    'citrus': ['iphone', 'macbook', 'earpods'],\n",
    "    'allo': ['earpods', 'iphone']\n",
    "}\n",
    "\n",
    "# create a dict transpose function \n",
    "def dict2dict(input_dict):\n",
    "    \n",
    "    # get unique values for each key in input dictionary\n",
    "    unique_values = set(value for sublist in input_dict.values() for value in sublist)\n",
    "    \n",
    "    # create an output dictionary\n",
    "    output = dict()\n",
    "    \n",
    "    # loop through unique products list\n",
    "    for unique in unique_values:\n",
    "        \n",
    "        # create a result list\n",
    "        keys_list = []\n",
    "        \n",
    "        # loop through input dictionary keys and values\n",
    "        for key, value in input_dict.items():   \n",
    "            \n",
    "            # if unique product in values list fo input dictionary's key\n",
    "            if unique in value:\n",
    "                \n",
    "                # append those keys to a result list of keys\n",
    "                keys_list.append(key)\n",
    "        # assign key with unique product name and set a keys list as values\n",
    "        output[unique] = keys_list\n",
    "     \n",
    "    # return output dictionary\n",
    "    return output\n",
    "        \n",
    "    \n",
    "\n",
    "output_dict = dict2dict(input_dict)\n",
    "output_dict"
   ]
  },
  {
   "cell_type": "code",
   "execution_count": 2,
   "metadata": {},
   "outputs": [
    {
     "name": "stdout",
     "output_type": "stream",
     "text": [
      "2.92 µs ± 21.9 ns per loop (mean ± std. dev. of 7 runs, 100000 loops each)\n"
     ]
    }
   ],
   "source": [
    "%%timeit\n",
    "dict2dict(input_dict)"
   ]
  },
  {
   "cell_type": "markdown",
   "metadata": {},
   "source": [
    "### Task 2\n",
    "\n",
    "Дан текст:\n",
    "```\n",
    "text = \"\"\"Однажды весною, в час небывало жаркого заката, в Москве, на Патриарших прудах, появились два гражданина. Первый из них, одетый в летнюю серенькую пару, был маленького роста, упитан, лыс, свою приличную шляпу пирожком нес в руке, а на хорошо выбритом лице его помещались сверхъестественных размеров очки в черной роговой оправе. Второй – плечистый, рыжеватый, вихрастый молодой человек в заломленной на затылок клетчатой кепке – был в ковбойке, жеваных белых брюках и в черных тапочках. Первый был не кто иной, как Михаил Александрович Берлиоз, председатель правления одной из крупнейших московских литературных ассоциаций, сокращенно именуемой МАССОЛИТ, и редактор толстого художественного журнала, а молодой спутник его – поэт Иван Николаевич Понырев, пишущий под псевдонимом Бездомный. Попав в тень чуть зеленеющих лип, писатели первым долгом бросились к пестро раскрашенной будочке с надписью «Пиво и воды». Да, следует отметить первую странность этого страшного майского вечера. Не только у будочки, но и во всей аллее, параллельной Малой Бронной улице, не оказалось ни одного человека. В тот час, когда уж, кажется, и сил не было дышать, когда солнце, раскалив Москву, в сухом тумане валилось куда-то за Садовое кольцо, – никто не пришел под липы, никто не сел на скамейку, пуста была аллея.\"\"\".lower()\n",
    "```\n",
    "\n",
    "Написать функцию, принимающую строку и возвращающую словарь dict() содержащий все символы в тексте и количество их вхождений (сколько раз символ присутствует в тексте)\n",
    "\n",
    "**Output**: \n",
    "```\n",
    "{‘–’: 4, ‘ъ’: 1, ‘э’: 2}\n",
    "```\n",
    "\n"
   ]
  },
  {
   "cell_type": "markdown",
   "metadata": {},
   "source": [
    "### Solution"
   ]
  },
  {
   "cell_type": "code",
   "execution_count": 3,
   "metadata": {},
   "outputs": [
    {
     "name": "stdout",
     "output_type": "stream",
     "text": [
      "{'о': 119, 'д': 31, 'н': 65, 'а': 85, 'ж': 10, 'ы': 28, ' ': 193, 'в': 52, 'е': 89, 'с': 54, 'ю': 10, ',': 33, 'ч': 17, 'б': 16, 'л': 60, 'р': 51, 'к': 47, 'г': 15, 'з': 11, 'т': 50, 'м': 26, 'п': 38, 'и': 62, 'ш': 9, 'х': 19, 'у': 28, 'я': 5, 'ь': 17, '.': 8, 'й': 28, 'ц': 6, 'щ': 4, 'ъ': 1, '–': 4, 'э': 2, '«': 1, '»': 1, '-': 1}\n"
     ]
    }
   ],
   "source": [
    "# T2 solution\n",
    "text = \"\"\"Однажды весною, в час небывало жаркого заката, в Москве, на Патриарших прудах, появились два гражданина. Первый из них, одетый в летнюю серенькую пару, был маленького роста, упитан, лыс, свою приличную шляпу пирожком нес в руке, а на хорошо выбритом лице его помещались сверхъестественных размеров очки в черной роговой оправе. Второй – плечистый, рыжеватый, вихрастый молодой человек в заломленной на затылок клетчатой кепке – был в ковбойке, жеваных белых брюках и в черных тапочках. Первый был не кто иной, как Михаил Александрович Берлиоз, председатель правления одной из крупнейших московских литературных ассоциаций, сокращенно именуемой МАССОЛИТ, и редактор толстого художественного журнала, а молодой спутник его – поэт Иван Николаевич Понырев, пишущий под псевдонимом Бездомный. Попав в тень чуть зеленеющих лип, писатели первым долгом бросились к пестро раскрашенной будочке с надписью «Пиво и воды». Да, следует отметить первую странность этого страшного майского вечера. Не только у будочки, но и во всей аллее, параллельной Малой Бронной улице, не оказалось ни одного человека. В тот час, когда уж, кажется, и сил не было дышать, когда солнце, раскалив Москву, в сухом тумане валилось куда-то за Садовое кольцо, – никто не пришел под липы, никто не сел на скамейку, пуста была аллея.\"\"\".lower() \n",
    "\n",
    "def symbol_counter(string):\n",
    "    symbols_list = list(string)\n",
    "    counterdict = dict()\n",
    "    for each in symbols_list:\n",
    "        if each in counterdict.keys():\n",
    "            counterdict[each] += 1\n",
    "        else:\n",
    "            counterdict[each] = 1\n",
    "       \n",
    "    return counterdict\n",
    "\n",
    "otput_c = symbol_counter(text)\n",
    "print(otput_c)"
   ]
  },
  {
   "cell_type": "code",
   "execution_count": 4,
   "metadata": {},
   "outputs": [
    {
     "name": "stdout",
     "output_type": "stream",
     "text": [
      "239 µs ± 512 ns per loop (mean ± std. dev. of 7 runs, 1000 loops each)\n"
     ]
    }
   ],
   "source": [
    "%%timeit\n",
    "symbol_counter(text)"
   ]
  },
  {
   "cell_type": "markdown",
   "metadata": {},
   "source": [
    "### Task 3 - Description\n",
    "На основе данного текста построить генератор текста длиной в сто символов, принимающий символ и возвращающий следующий, как функцию от предыдущего. Для этого нужно изучить условное распределение, как часто за одним символом следует другой.\n",
    "\n",
    "e.g.\n",
    "\n",
    "**Input:**\n",
    "```\n",
    "gen_text(‘ц’) \n",
    "\n",
    "{’ц’: {‘e’: 3}, {‘и’: 2}, {‘о’: 1} } # генерируем “е” с вероятностью ½,\n",
    "                                     #  “и” c вероятностью ⅓ и “о” с вероятностью ⅙.\n",
    "\n",
    "```\n",
    "\n",
    "**Output:**\n",
    "```\n",
    "“цодой пою лодах лой быканах” и т.д.\n",
    "```\n",
    "\n",
    "p.s. import random + если для символа нет следующего, ставим “.” и продолжаем\n",
    "\n",
    "Описать в O-нотации сложность алгоритма, где n - длина генерируемой последовательности, m - длина текста, на основе которого, генерируется последовательность, k - кол-во уникальных символов в тексте, на основе которого, генерируется последовательность. Ответ может зависеть не от всех {n, m, k}\n",
    "\n"
   ]
  },
  {
   "cell_type": "markdown",
   "metadata": {},
   "source": [
    "### Task3 - Solution"
   ]
  },
  {
   "cell_type": "code",
   "execution_count": 449,
   "metadata": {},
   "outputs": [
    {
     "name": "stdout",
     "output_type": "stream",
     "text": [
      "Generated string for 'ц' : цею прша сишудазей ний ой босявикрой чный, лопал – заскодажелото мегонивологой прх сих, раи ипокаждн\n"
     ]
    }
   ],
   "source": [
    "# imports\n",
    "from random import choices\n",
    "\n",
    "# find indexes of a given character in given string\n",
    "def find_indexes(char,text):\n",
    "    for i, char_text in enumerate(text):\n",
    "        if char == char_text:\n",
    "            yield i\n",
    "            \n",
    "# calculate probabilities for element's occurencies \n",
    "def calculate_probas(element_counter_dict):\n",
    "    \n",
    "    N =  sum(element_counter_dict.values())\n",
    "    \n",
    "    probas_dict = {\n",
    "        key: round(value / N, 3) for key, value in element_counter_dict.items()\n",
    "    }\n",
    "    \n",
    "    return probas_dict\n",
    "\n",
    "# get next element occurencies for each element in string\n",
    "def next_element_counter(text):\n",
    "    unique_elements = set(text)\n",
    "    next_occurence_dict = dict()\n",
    "    \n",
    "    for each_element in unique_elements:\n",
    "        \n",
    "        current_element_indexes = find_indexes(each_element, text)\n",
    "        \n",
    "        temporary_result = list()\n",
    "        \n",
    "        for curr_element_idx in current_element_indexes:\n",
    "            next_element_idx = curr_element_idx + 1\n",
    "            \n",
    "            if next_element_idx < len(text):\n",
    "                next_element_value = text[next_element_idx]\n",
    "                temporary_result.append(next_element_value)\n",
    "            else:\n",
    "                pass\n",
    "        \n",
    "        tmp_string = ''.join(temporary_result)\n",
    "        next_occurence_counts = calculate_probas(symbol_counter(tmp_string))\n",
    "        \n",
    "        next_occurence_dict[each_element] = next_occurence_counts\n",
    "    return next_occurence_dict\n",
    "\n",
    "# generate string with Markov chain generator\n",
    "def markovchain_generator(input_char, text_string = text, sequence_lenght = 100):\n",
    "    \n",
    "    # calculate next element appearence for each unique element in text_string\n",
    "    occurences = next_element_counter(text_string)\n",
    "    \n",
    "    # for memoization\n",
    "    result = []\n",
    "    \n",
    "    # set input_char as a first element in generated result else pass\n",
    "    if len(result) == 0:\n",
    "            result.append(input_char)\n",
    "    else:\n",
    "        pass\n",
    "    \n",
    "    char = input_char\n",
    "    \n",
    "    # repeat until length of result reach a sequence_length's value\n",
    "    while len(result) < sequence_lenght:\n",
    "        \n",
    "        # get probabilities of next element appearence for a current char\n",
    "        probas = occurences.get(char)\n",
    "        \n",
    "        # if current char has next element\n",
    "        if probas:\n",
    "            # unpack dictionary\n",
    "            keys, values = list(probas.keys()), list(probas.values())\n",
    "            \n",
    "            # randomly choose an element from multi-/bino- nomial distribution of elements\n",
    "            choice = choices(population = keys, weights = values, k = 1)[0]\n",
    "            \n",
    "            # append those element to generated result\n",
    "            result.append(choice)\n",
    "        \n",
    "        # if current element hasn't next element\n",
    "        # append '.' to generated string\n",
    "        else:\n",
    "            result.append('.')\n",
    "        \n",
    "        # get last element from generated string\n",
    "        char = result[-1]\n",
    "    \n",
    "    # typecast generated result to a string\n",
    "    generated_string = ''.join(result)\n",
    "    \n",
    "    # finaly, return generated string\n",
    "    return generated_string\n",
    "\n",
    "test_char = 'ц'\n",
    "mc_generated_str = markovchain_generator(test_char)\n",
    "print(f\"Generated string for \\'{test_char}\\' : {mc_generated_str}\")"
   ]
  },
  {
   "cell_type": "code",
   "execution_count": 450,
   "metadata": {},
   "outputs": [
    {
     "name": "stdout",
     "output_type": "stream",
     "text": [
      "4.96 ms ± 74.3 µs per loop (mean ± std. dev. of 7 runs, 100 loops each)\n"
     ]
    }
   ],
   "source": [
    "%%timeit\n",
    "markovchain_generator(test_char)"
   ]
  },
  {
   "cell_type": "markdown",
   "metadata": {},
   "source": [
    "Complexity:\n",
    "In case of desired N length output, M as given text and K unique values\n",
    "$$O(M^2 + N)$$"
   ]
  },
  {
   "cell_type": "markdown",
   "metadata": {},
   "source": [
    "### Task 4 - Description\n",
    "Дана функция find_index_of_minimum, возвращающая индекс наименьшего элемента в массиве, работающая от индекса start и до конца массива\n",
    "```\n",
    "def find_index_of_minimum(vector, start):\n",
    "    minimum, index_of_minimum = vector[start], start\n",
    "    for index, value in enumerate(vector[start + 1:]):\n",
    "        if value < minimum:\n",
    "            minimum = value\n",
    "            index_of_minimum = index + start + 1\n",
    "    return index_of_minimum\n",
    "    \n",
    "a = [81, 44, 91, 23, 26, 42, 46, 19, 46]\n",
    "find_index_of_minimum(a, 0)\n",
    "```\n",
    "**Output**:\n",
    "7\n",
    "\n",
    "На основе этой функции, напишите свою реализацию сортировки SelectionSort и выполните сортировку массива средней длины, и измерьте время при помощи магии %%time\n",
    "Отсортировать массив, и вывести первые 10 элементов с шагом в 2.\n",
    "\n",
    "### Task 4 - Solution"
   ]
  },
  {
   "cell_type": "code",
   "execution_count": 622,
   "metadata": {},
   "outputs": [
    {
     "name": "stdout",
     "output_type": "stream",
     "text": [
      "[670487, 116739, 26225, 777572, 288389, 256787, 234053, 146316]\n"
     ]
    }
   ],
   "source": [
    "# imports\n",
    "from random import seed\n",
    "\n",
    "# set seed for reproducibility\n",
    "seed(42)\n",
    "\n",
    "# find index of minimal value in list\n",
    "def find_index_of_minimum(vector, start):\n",
    "    minimum, index_of_minimum = vector[start], start\n",
    "    for index, value in enumerate(vector[start + 1:]):\n",
    "        if value < minimum:\n",
    "            minimum = value\n",
    "            index_of_minimum = index + start + 1\n",
    "    return index_of_minimum\n",
    "\n",
    "# selection sort\n",
    "def ssort(vector):\n",
    "    for i in range(0, len(vector)):\n",
    "        \n",
    "        # finding index of minimum\n",
    "        min_idx = find_index_of_minimum(vector, i)\n",
    "        \n",
    "        # swapping ithn element with element with index of minimum\n",
    "        vector[i], vector[min_idx] = vector[min_idx], vector[i] \n",
    "        \n",
    "        \n",
    "\n",
    "# generate unsorted list\n",
    "a = [random.randint(0, 1_000_000) for _ in range(50_000)]\n",
    "print(a[:8])"
   ]
  },
  {
   "cell_type": "code",
   "execution_count": 624,
   "metadata": {},
   "outputs": [
    {
     "name": "stdout",
     "output_type": "stream",
     "text": [
      "[9, 54, 63, 89, 97, 177, 205, 258, 283, 337]\n",
      "Wall time: 1min 2s\n"
     ]
    }
   ],
   "source": [
    "%%time\n",
    "# perform selection sort\n",
    "ssort(a)\n",
    "print(a[:20:2])"
   ]
  },
  {
   "cell_type": "markdown",
   "metadata": {},
   "source": [
    "### Task 5 - Description\n",
    "\n",
    "Дана последовательность:\n",
    "```\n",
    "seq = [2, 2, 4, 4, 4, 6, 6, 9, 7, 9, 9, 9, 9, 5, 5, 1, 6, 7, 9, 8]\n",
    "```\n",
    "Самая длинная подпоследовательность в которой [9, 9, 9, 9]\n",
    "Необходимо написать код, выводящий длину и элемент самой длинной подпоследовательность. e.g., (4, 9) - четыре девятки подряд.\n",
    "\n",
    "\n",
    "Найти длину и элемент самой длинной подпоследовательности в массиве a."
   ]
  },
  {
   "cell_type": "markdown",
   "metadata": {},
   "source": [
    "### Task 5 - Solution"
   ]
  },
  {
   "cell_type": "code",
   "execution_count": 446,
   "metadata": {},
   "outputs": [
    {
     "name": "stdout",
     "output_type": "stream",
     "text": [
      "[10, 1, 0, 4, 3, 3, 2, 1]\n"
     ]
    },
    {
     "data": {
      "text/plain": [
       "(931, 10)"
      ]
     },
     "execution_count": 446,
     "metadata": {},
     "output_type": "execute_result"
    }
   ],
   "source": [
    "seed(42)\n",
    "\n",
    "def max_repeated_seq(ar):\n",
    "    d = {}\n",
    "    for i, ele in enumerate(ar):\n",
    "        if ele not in d.keys():\n",
    "            d[ele] = 1\n",
    "        if (i+1 < len(ar) and ele == ar[i+1]):\n",
    "            d[ele] += 1\n",
    "\n",
    "    for k,v in zip(d.keys(), d.values()):\n",
    "        if max(d.values()) == v:\n",
    "            return(v, k)\n",
    "\n",
    "a = [random.randint(0, 10) for _ in range(100000)]\n",
    "print(a[:8])\n",
    "\n",
    "\n",
    "max_repeated_seq(a)"
   ]
  },
  {
   "cell_type": "markdown",
   "metadata": {},
   "source": [
    "### Task 6 - Description\n",
    "\n",
    "Изучить работу алгоритма быстрой сортировки <a href='https://en.wikipedia.org/wiki/Quicksort'>QuickSort</a>.\n",
    "- Запустить, понять. Потом убрать все принты.\n",
    "- Сравнить время с работой алгоритма SelectionSort, для массивов:\n",
    "\n",
    "```\n",
    "import random\n",
    "random.seed(42)\n",
    "\n",
    "a = [random.randint(0, 1_000_000) for _ in range(50_000)]\n",
    "b = [random.randint(0, 1_000_000) for _ in range(10_000)]\n",
    "c = [random.randint(0, 1_000_000) for _ in range(2_000)]\n",
    "d = [random.randint(0, 1_000_000) for _ in range(400)]\n",
    "```\n",
    "\n",
    "- Попытаться показать зависимость от n алгоритмов работающих за O(n) и за O(n log n)\n",
    "\n",
    "- Предсказать время работы обоих алгоритмов для массивов длиной 50_000_000 элементов."
   ]
  },
  {
   "cell_type": "code",
   "execution_count": 682,
   "metadata": {},
   "outputs": [],
   "source": [
    "# imports\n",
    "import time\n",
    "\n",
    "def partition(sort_list, start, end):\n",
    "    i = start\n",
    "    pivot = sort_list[end]\n",
    "    for j in range(start, end):\n",
    "        # print(f\"\"\"\\n{sort_list}\\n\n",
    "        #    Left = {sort_list[i]}, Right = {sort_list[j]}, Pivot = {pivot},      i = {i}, j = {j}\n",
    "        #    Right less than Pivot, swap Right with Left? = {sort_list[j] < pivot}\"\"\")\n",
    "        if sort_list[j] < pivot:\n",
    "            sort_list[i], sort_list[j] = sort_list[j], sort_list[i]\n",
    "            i += 1\n",
    "    #print(f\"\"\"\\n{sort_list}\\n\n",
    "    #        swaping Pivot = {pivot} with Left = {sort_list[i]}\"\"\")\n",
    "    sort_list[i], sort_list[end] = sort_list[end], sort_list[i]\n",
    "    return i\n",
    "\n",
    "# quick sort\n",
    "def qsort(sort_list, start, end):\n",
    "    if start < end:\n",
    "        pivot = partition(sort_list, start, end)\n",
    "        qsort(sort_list, start, pivot-1)\n",
    "        qsort(sort_list, pivot+1, end)\n",
    "\n",
    "# comparision function\n",
    "def compare_sorting(ar,func, *args):\n",
    "    ar_cp = ar.copy()\n",
    "    start = time.perf_counter()\n",
    "    func(ar_cp,*args)\n",
    "    finish = time.perf_counter()\n",
    "    result = finish - start\n",
    "    return result"
   ]
  },
  {
   "cell_type": "code",
   "execution_count": 683,
   "metadata": {},
   "outputs": [],
   "source": [
    "# set seed\n",
    "seed(42)\n",
    "\n",
    "# generate arrays\n",
    "a = [random.randint(0, 1_000_000) for _ in range(50_000)]\n",
    "b = [random.randint(0, 1_000_000) for _ in range(10_000)]\n",
    "c = [random.randint(0, 1_000_000) for _ in range(2_000)]\n",
    "d = [random.randint(0, 1_000_000) for _ in range(400)]"
   ]
  },
  {
   "cell_type": "code",
   "execution_count": 684,
   "metadata": {},
   "outputs": [
    {
     "name": "stdout",
     "output_type": "stream",
     "text": [
      "N = 50000; SSort: 60.740 sec vs QSort: 0.116 sec\n",
      "N = 10000; SSort: 2.427 sec vs QSort: 0.019 sec\n",
      "N = 2000; SSort: 0.090 sec vs QSort: 0.003 sec\n",
      "N = 400; SSort: 0.003 sec vs QSort: 0.000 sec\n"
     ]
    }
   ],
   "source": [
    "# compare sorting algorithms\n",
    "arrays = [a, b, c, d]\n",
    "\n",
    "for i in arrays:\n",
    "    result_ssort = compare_sorting(i,ssort)\n",
    "    result_qsort = compare_sorting(i,qsort,0,len(i) - 1)\n",
    "    print(f\"N = {len(i)}; SSort: {result_ssort:.3f} sec vs QSort: {result_qsort:.3f} sec\")\n",
    "    "
   ]
  },
  {
   "cell_type": "markdown",
   "metadata": {},
   "source": [
    "### Task 7"
   ]
  },
  {
   "cell_type": "code",
   "execution_count": null,
   "metadata": {},
   "outputs": [],
   "source": []
  }
 ],
 "metadata": {
  "kernelspec": {
   "display_name": "Python 3",
   "language": "python",
   "name": "python3"
  },
  "language_info": {
   "codemirror_mode": {
    "name": "ipython",
    "version": 3
   },
   "file_extension": ".py",
   "mimetype": "text/x-python",
   "name": "python",
   "nbconvert_exporter": "python",
   "pygments_lexer": "ipython3",
   "version": "3.7.4"
  }
 },
 "nbformat": 4,
 "nbformat_minor": 4
}
