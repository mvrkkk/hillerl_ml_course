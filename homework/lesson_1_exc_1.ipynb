{
 "cells": [
  {
   "cell_type": "markdown",
   "metadata": {},
   "source": [
    "# Data Science & Machine Learning course - IT-Hillel school\n",
    "\n",
    "### Lesson's 1 home work solutions"
   ]
  },
  {
   "cell_type": "markdown",
   "metadata": {},
   "source": [
    "### Task 1 - description\n",
    "\n",
    "Вы получили данные о магазине и продуктах в этих магазинах в виде словаря dict(). Необходимо создать обратный словарь, содержащий название товара и наименования магазинов, в которых этот товар представлен. Написать функцию принимающую и возвращающую словарь.\n",
    "\n",
    "**Input**:\n",
    "\n",
    "```\n",
    "{\n",
    "    ‘rozetka’: [‘iphone’, ‘macbook’, ‘ipad’],\n",
    "    ‘fua’: [‘macbook’, ‘ipad’],\n",
    "    ‘citrus’: [‘iphone’, ‘macbook’, ‘earpods’],\n",
    "    ‘allo’: [‘earpods’, ‘iphone’]\n",
    "}\n",
    "```\n",
    "**Output**: \n",
    "```\n",
    "{\n",
    "    ‘iphone’: [‘rozetka’, ‘citrus’, ‘allo’],\n",
    "    ‘macbook’: [‘rozetka’, ‘fua’, ‘citrus’],\n",
    "    ‘ipad’: [‘rozetka’, ‘fua’],\n",
    "    ‘earpods’: [‘allo’, ‘citrus’]\n",
    "}\n",
    "```"
   ]
  },
  {
   "cell_type": "markdown",
   "metadata": {},
   "source": [
    "### Task 1 - solution"
   ]
  },
  {
   "cell_type": "code",
   "execution_count": 124,
   "metadata": {},
   "outputs": [
    {
     "data": {
      "text/plain": [
       "{'rozetka': ['iphone', 'macbook', 'ipad'],\n",
       " 'citrus': ['iphone', 'macbook', 'earpods'],\n",
       " 'allo': ['iphone', 'earpods'],\n",
       " 'fua': ['macbook', 'ipad']}"
      ]
     },
     "execution_count": 124,
     "metadata": {},
     "output_type": "execute_result"
    }
   ],
   "source": [
    "import pprint\n",
    "# T1 solution\n",
    "\n",
    "# create initial dictionary\n",
    "input_dict = {\n",
    "    'rozetka': ['iphone', 'macbook', 'ipad'],\n",
    "    'fua': ['macbook', 'ipad'],\n",
    "    'citrus': ['iphone', 'macbook', 'earpods'],\n",
    "    'allo': ['earpods', 'iphone']\n",
    "}\n",
    "\n",
    "# create a dict transpose function \n",
    "def transpose_dict2dict(input_dict):\n",
    "    \n",
    "    # create empty output dictionary for populating with values\n",
    "    output_dict = {}\n",
    "    \n",
    "    # loop through keys and values of initial dictionary\n",
    "    for key, values_list in zip(input_dict.keys(), input_dict.values()):\n",
    "        \n",
    "        # loop through each value in list of values\n",
    "        for value in values_list:\n",
    "            \n",
    "            # if value already not in output dictionary keys\n",
    "            if value not in output_dict.keys():\n",
    "                \n",
    "                # set value as a key for output_dict\n",
    "                # and for that value - create a list with keys\n",
    "                # where that values is preseneted\n",
    "                output_dict[value] = [k for k in input_dict.keys() if value in input_dict.get(k)]\n",
    "\n",
    "    return output_dict\n",
    "\n",
    "output_dict = transpose_dict2dict(d)\n",
    "output_dict"
   ]
  },
  {
   "cell_type": "code",
   "execution_count": 127,
   "metadata": {},
   "outputs": [
    {
     "name": "stdout",
     "output_type": "stream",
     "text": [
      "5.41 µs ± 55.2 ns per loop (mean ± std. dev. of 7 runs, 100000 loops each)\n"
     ]
    }
   ],
   "source": [
    "%%timeit\n",
    "transpose_dict2dict(d)"
   ]
  },
  {
   "cell_type": "code",
   "execution_count": 147,
   "metadata": {},
   "outputs": [],
   "source": [
    "def t_dict2dict(input_dict):\n",
    "    unique = set(x for sublist in input_dict.values() for x in sublist)\n",
    "    return {u:[k for k,v in input_dict.items() if u in v] for u in unique}"
   ]
  },
  {
   "cell_type": "code",
   "execution_count": 148,
   "metadata": {},
   "outputs": [
    {
     "name": "stdout",
     "output_type": "stream",
     "text": [
      "4.23 µs ± 44.1 ns per loop (mean ± std. dev. of 7 runs, 100000 loops each)\n"
     ]
    }
   ],
   "source": [
    "%%timeit\n",
    "t_dict2dict(d)"
   ]
  },
  {
   "cell_type": "markdown",
   "metadata": {},
   "source": [
    "### Task 2\n",
    "\n",
    "Дан текст:\n",
    "```\n",
    "text = \"\"\"Однажды весною, в час небывало жаркого заката, в Москве, на Патриарших прудах, появились два гражданина. Первый из них, одетый в летнюю серенькую пару, был маленького роста, упитан, лыс, свою приличную шляпу пирожком нес в руке, а на хорошо выбритом лице его помещались сверхъестественных размеров очки в черной роговой оправе. Второй – плечистый, рыжеватый, вихрастый молодой человек в заломленной на затылок клетчатой кепке – был в ковбойке, жеваных белых брюках и в черных тапочках. Первый был не кто иной, как Михаил Александрович Берлиоз, председатель правления одной из крупнейших московских литературных ассоциаций, сокращенно именуемой МАССОЛИТ, и редактор толстого художественного журнала, а молодой спутник его – поэт Иван Николаевич Понырев, пишущий под псевдонимом Бездомный. Попав в тень чуть зеленеющих лип, писатели первым долгом бросились к пестро раскрашенной будочке с надписью «Пиво и воды». Да, следует отметить первую странность этого страшного майского вечера. Не только у будочки, но и во всей аллее, параллельной Малой Бронной улице, не оказалось ни одного человека. В тот час, когда уж, кажется, и сил не было дышать, когда солнце, раскалив Москву, в сухом тумане валилось куда-то за Садовое кольцо, – никто не пришел под липы, никто не сел на скамейку, пуста была аллея.\"\"\".lower()\n",
    "```\n",
    "\n",
    "Написать функцию, принимающую строку и возвращающую словарь dict() содержащий все символы в тексте и количество их вхождений (сколько раз символ присутствует в тексте)\n",
    "\n",
    "**Output**: \n",
    "```\n",
    "{‘–’: 4, ‘ъ’: 1, ‘э’: 2}\n",
    "```\n",
    "\n"
   ]
  },
  {
   "cell_type": "markdown",
   "metadata": {},
   "source": [
    "### Solution"
   ]
  },
  {
   "cell_type": "code",
   "execution_count": null,
   "metadata": {},
   "outputs": [],
   "source": [
    "# T2 solution"
   ]
  },
  {
   "cell_type": "markdown",
   "metadata": {},
   "source": [
    "### Task 3\n",
    "На основе данного текста построить генератор текста длиной в сто символов, принимающий символ и возвращающий следующий, как функцию от предыдущего. Для этого нужно изучить условное распределение, как часто за одним символом следует другой.\n",
    "\n",
    "e.g.\n",
    "\n",
    "**Input:**\n",
    "```\n",
    "gen_text(‘ц’) \n",
    "\n",
    "{’ц’: {‘e’: 3}, {‘и’: 2}, {‘о’: 1} } # генерируем “е” с вероятностью ½,\n",
    "                                     #  “и” c вероятностью ⅓ и “о” с вероятностью ⅙.\n",
    "\n",
    "```\n",
    "\n",
    "**Output:**\n",
    "```\n",
    "“цодой пою лодах лой быканах” и т.д.\n",
    "```\n",
    "\n",
    "p.s. import random + если для символа нет следующего, ставим “.” и продолжаем\n",
    "\n"
   ]
  },
  {
   "cell_type": "markdown",
   "metadata": {},
   "source": [
    "### Solution"
   ]
  },
  {
   "cell_type": "code",
   "execution_count": 5,
   "metadata": {},
   "outputs": [],
   "source": [
    "# T3 solution"
   ]
  },
  {
   "cell_type": "code",
   "execution_count": 152,
   "metadata": {},
   "outputs": [],
   "source": [
    "s = 50_000_000"
   ]
  },
  {
   "cell_type": "code",
   "execution_count": 154,
   "metadata": {},
   "outputs": [
    {
     "data": {
      "text/plain": [
       "25000000"
      ]
     },
     "execution_count": 154,
     "metadata": {},
     "output_type": "execute_result"
    }
   ],
   "source": [
    "s//2"
   ]
  },
  {
   "cell_type": "code",
   "execution_count": null,
   "metadata": {},
   "outputs": [],
   "source": [
    "    "
   ]
  }
 ],
 "metadata": {
  "kernelspec": {
   "display_name": "Python 3",
   "language": "python",
   "name": "python3"
  },
  "language_info": {
   "codemirror_mode": {
    "name": "ipython",
    "version": 3
   },
   "file_extension": ".py",
   "mimetype": "text/x-python",
   "name": "python",
   "nbconvert_exporter": "python",
   "pygments_lexer": "ipython3",
   "version": "3.7.4"
  }
 },
 "nbformat": 4,
 "nbformat_minor": 4
}
